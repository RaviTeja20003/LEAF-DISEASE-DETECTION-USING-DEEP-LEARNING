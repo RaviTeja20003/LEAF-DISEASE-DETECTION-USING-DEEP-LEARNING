{
  "nbformat": 4,
  "nbformat_minor": 0,
  "metadata": {
    "colab": {
      "name": "LEAF DISEASE DETECTION USING DEEP LEARNING.ipynb ",
      "provenance": [],
      "collapsed_sections": []
    },
    "kernelspec": {
      "name": "python3",
      "display_name": "Python 3"
    },
    "language_info": {
      "name": "python"
    },
    "accelerator": "GPU",
    "gpuClass": "standard"
  },
  "cells": [
    {
      "cell_type": "code",
      "source": [
        "import os \n",
        "os.environ['KAGGLE_CONFIG_DIR'] = '/content/drive/MyDrive/NEW DATA'"
      ],
      "metadata": {
        "id": "evKFgngoyfF-"
      },
      "execution_count": null,
      "outputs": []
    },
    {
      "cell_type": "code",
      "source": [
        "!kaggle datasets download -d emmarex/plantdisease"
      ],
      "metadata": {
        "colab": {
          "base_uri": "https://localhost:8080/"
        },
        "id": "SLekeavE451F",
        "outputId": "4131394f-a8a8-4f18-f89e-82f3e0527ba5"
      },
      "execution_count": null,
      "outputs": [
        {
          "output_type": "stream",
          "name": "stdout",
          "text": [
            "Downloading plantdisease.zip to /content\n",
            " 99% 652M/658M [00:10<00:00, 62.0MB/s]\n",
            "100% 658M/658M [00:10<00:00, 66.5MB/s]\n"
          ]
        }
      ]
    },
    {
      "cell_type": "code",
      "source": [
        "!unzip \\*.zip && rm *.zip"
      ],
      "metadata": {
        "colab": {
          "base_uri": "https://localhost:8080/"
        },
        "id": "9xV56EFO9jbB",
        "outputId": "e584007f-b9f6-44bb-ad03-7fe0af89362e"
      },
      "execution_count": null,
      "outputs": [
        {
          "output_type": "stream",
          "name": "stdout",
          "text": [
            "unzip:  cannot find or open *.zip, *.zip.zip or *.zip.ZIP.\n",
            "\n",
            "No zipfiles found.\n"
          ]
        }
      ]
    },
    {
      "cell_type": "markdown",
      "source": [
        ""
      ],
      "metadata": {
        "id": "s3sWZUWr0UMT"
      }
    },
    {
      "cell_type": "code",
      "source": [
        "!ls"
      ],
      "metadata": {
        "colab": {
          "base_uri": "https://localhost:8080/"
        },
        "id": "Z3ZRyB2Azw1x",
        "outputId": "3de74ad7-1838-457a-ef44-0178bf57e9ee"
      },
      "execution_count": null,
      "outputs": [
        {
          "output_type": "stream",
          "name": "stdout",
          "text": [
            " best_model.h5\t\t\t\t\t\t    plantvillage\n",
            " drive\t\t\t\t\t\t\t    PlantVillage\n",
            " Frogeye-spots-Botryosphaeria-obtusa-on-apple-leaf-FB.jpg   sample_data\n",
            "'new plant diseases dataset(augmented)'\t\t\t    test\n",
            "'New Plant Diseases Dataset(Augmented)'\n"
          ]
        }
      ]
    },
    {
      "cell_type": "code",
      "source": [
        "import numpy as np\n",
        "import pandas as pd\n",
        "import matplotlib.pyplot as plot \n",
        "import os\n",
        "import keras\n",
        "from keras.preprocessing.image import ImageDataGenerator, img_to_array,load_img\n",
        "from keras.applications.vgg19 import VGG19, preprocess_input,decode_predictions"
      ],
      "metadata": {
        "id": "YcKiJ-bb79gt"
      },
      "execution_count": null,
      "outputs": []
    },
    {
      "cell_type": "code",
      "source": [
        "# Exploaratory data analyisi\n",
        "len(os.listdir(\"/content/PlantVillage\"))"
      ],
      "metadata": {
        "colab": {
          "base_uri": "https://localhost:8080/"
        },
        "id": "4eYOgBUNIQHs",
        "outputId": "24567eb3-e89b-47f8-8ac6-ffeb5eec32b4"
      },
      "execution_count": null,
      "outputs": [
        {
          "output_type": "execute_result",
          "data": {
            "text/plain": [
              "15"
            ]
          },
          "metadata": {},
          "execution_count": 47
        }
      ]
    },
    {
      "cell_type": "code",
      "source": [
        "len(os.listdir(\"/content/new plant diseases dataset(augmented)/New Plant Diseases Dataset(Augmented)/train\"))"
      ],
      "metadata": {
        "colab": {
          "base_uri": "https://localhost:8080/"
        },
        "id": "37BC1-V9viO5",
        "outputId": "ed32ae6b-3d63-4989-a914-0a3ba53accec"
      },
      "execution_count": null,
      "outputs": [
        {
          "output_type": "execute_result",
          "data": {
            "text/plain": [
              "38"
            ]
          },
          "metadata": {},
          "execution_count": 63
        }
      ]
    },
    {
      "cell_type": "code",
      "source": [
        "train_data = ImageDataGenerator(zoom_range = 0.5,shear_range=0.3,horizontal_flip = True,preprocessing_function = preprocess_input)\n",
        "val_data = ImageDataGenerator(preprocessing_function=preprocess_input )\n"
      ],
      "metadata": {
        "id": "EXqOC7yuPDkl"
      },
      "execution_count": null,
      "outputs": []
    },
    {
      "cell_type": "code",
      "source": [
        "train = train_data.flow_from_directory(directory=\"/content/new plant diseases dataset(augmented)/New Plant Diseases Dataset(Augmented)/train\",\n",
        "                                       target_size = (256,256), # height,width\n",
        "                                       batch_size = 32) # batch size = the number of training examples in one forward/backward pass\n",
        "val = val_data.flow_from_directory(directory=\"/content/new plant diseases dataset(augmented)/New Plant Diseases Dataset(Augmented)/valid\",\n",
        "                             target_size = (256,256),\n",
        "                             batch_size = 32)"
      ],
      "metadata": {
        "colab": {
          "base_uri": "https://localhost:8080/"
        },
        "id": "IqrhzorcWw5I",
        "outputId": "60123963-1900-40d6-b016-67f8a316903a"
      },
      "execution_count": null,
      "outputs": [
        {
          "output_type": "stream",
          "name": "stdout",
          "text": [
            "Found 70295 images belonging to 38 classes.\n",
            "Found 17572 images belonging to 38 classes.\n"
          ]
        }
      ]
    },
    {
      "cell_type": "code",
      "source": [
        "#MODEL"
      ],
      "metadata": {
        "id": "-lLjZuu6Txtz"
      },
      "execution_count": null,
      "outputs": []
    },
    {
      "cell_type": "code",
      "source": [
        "from keras.layers import Dense,Flatten  #Flatten layers are used when you got a multidimensional output and you want to make it linear to pass it onto a Dense layer\n",
        "from keras.models import Model\n",
        "from keras.applications.vgg19 import VGG19\n",
        "import keras"
      ],
      "metadata": {
        "id": "t3b5FHyBhYV8"
      },
      "execution_count": null,
      "outputs": []
    },
    {
      "cell_type": "code",
      "source": [
        "base_model = VGG19(input_shape = (256,256,3),include_top = False)"
      ],
      "metadata": {
        "id": "lOjerPy_Tuc_"
      },
      "execution_count": null,
      "outputs": []
    },
    {
      "cell_type": "code",
      "source": [
        "for layer in base_model.layers:\n",
        "  layer.trainable = False"
      ],
      "metadata": {
        "id": "npsmxf6mUQek"
      },
      "execution_count": null,
      "outputs": []
    },
    {
      "cell_type": "code",
      "source": [
        "base_model.summary()"
      ],
      "metadata": {
        "id": "S5-6hEuMUmAs",
        "colab": {
          "base_uri": "https://localhost:8080/"
        },
        "outputId": "1ff6f32f-deb3-4887-d5f1-671827333122"
      },
      "execution_count": null,
      "outputs": [
        {
          "output_type": "stream",
          "name": "stdout",
          "text": [
            "Model: \"vgg19\"\n",
            "_________________________________________________________________\n",
            " Layer (type)                Output Shape              Param #   \n",
            "=================================================================\n",
            " input_3 (InputLayer)        [(None, 256, 256, 3)]     0         \n",
            "                                                                 \n",
            " block1_conv1 (Conv2D)       (None, 256, 256, 64)      1792      \n",
            "                                                                 \n",
            " block1_conv2 (Conv2D)       (None, 256, 256, 64)      36928     \n",
            "                                                                 \n",
            " block1_pool (MaxPooling2D)  (None, 128, 128, 64)      0         \n",
            "                                                                 \n",
            " block2_conv1 (Conv2D)       (None, 128, 128, 128)     73856     \n",
            "                                                                 \n",
            " block2_conv2 (Conv2D)       (None, 128, 128, 128)     147584    \n",
            "                                                                 \n",
            " block2_pool (MaxPooling2D)  (None, 64, 64, 128)       0         \n",
            "                                                                 \n",
            " block3_conv1 (Conv2D)       (None, 64, 64, 256)       295168    \n",
            "                                                                 \n",
            " block3_conv2 (Conv2D)       (None, 64, 64, 256)       590080    \n",
            "                                                                 \n",
            " block3_conv3 (Conv2D)       (None, 64, 64, 256)       590080    \n",
            "                                                                 \n",
            " block3_conv4 (Conv2D)       (None, 64, 64, 256)       590080    \n",
            "                                                                 \n",
            " block3_pool (MaxPooling2D)  (None, 32, 32, 256)       0         \n",
            "                                                                 \n",
            " block4_conv1 (Conv2D)       (None, 32, 32, 512)       1180160   \n",
            "                                                                 \n",
            " block4_conv2 (Conv2D)       (None, 32, 32, 512)       2359808   \n",
            "                                                                 \n",
            " block4_conv3 (Conv2D)       (None, 32, 32, 512)       2359808   \n",
            "                                                                 \n",
            " block4_conv4 (Conv2D)       (None, 32, 32, 512)       2359808   \n",
            "                                                                 \n",
            " block4_pool (MaxPooling2D)  (None, 16, 16, 512)       0         \n",
            "                                                                 \n",
            " block5_conv1 (Conv2D)       (None, 16, 16, 512)       2359808   \n",
            "                                                                 \n",
            " block5_conv2 (Conv2D)       (None, 16, 16, 512)       2359808   \n",
            "                                                                 \n",
            " block5_conv3 (Conv2D)       (None, 16, 16, 512)       2359808   \n",
            "                                                                 \n",
            " block5_conv4 (Conv2D)       (None, 16, 16, 512)       2359808   \n",
            "                                                                 \n",
            " block5_pool (MaxPooling2D)  (None, 8, 8, 512)         0         \n",
            "                                                                 \n",
            "=================================================================\n",
            "Total params: 20,024,384\n",
            "Trainable params: 0\n",
            "Non-trainable params: 20,024,384\n",
            "_________________________________________________________________\n"
          ]
        }
      ]
    },
    {
      "cell_type": "code",
      "source": [
        "X = Flatten()(base_model.output)\n",
        "X = Dense(units = 38,activation ='softmax')(X)\n",
        "\n",
        "# MODEL CREATION\n",
        "model = Model(base_model.input, X)"
      ],
      "metadata": {
        "id": "ZJeMHbWWVWkG"
      },
      "execution_count": null,
      "outputs": []
    },
    {
      "cell_type": "code",
      "source": [
        "\n",
        "model.summary()"
      ],
      "metadata": {
        "colab": {
          "base_uri": "https://localhost:8080/"
        },
        "id": "Dzu3mUV4aRlE",
        "outputId": "38ac3f88-4b3b-469c-9ee9-f968db469a11"
      },
      "execution_count": null,
      "outputs": [
        {
          "output_type": "stream",
          "name": "stdout",
          "text": [
            "Model: \"model_2\"\n",
            "_________________________________________________________________\n",
            " Layer (type)                Output Shape              Param #   \n",
            "=================================================================\n",
            " input_3 (InputLayer)        [(None, 256, 256, 3)]     0         \n",
            "                                                                 \n",
            " block1_conv1 (Conv2D)       (None, 256, 256, 64)      1792      \n",
            "                                                                 \n",
            " block1_conv2 (Conv2D)       (None, 256, 256, 64)      36928     \n",
            "                                                                 \n",
            " block1_pool (MaxPooling2D)  (None, 128, 128, 64)      0         \n",
            "                                                                 \n",
            " block2_conv1 (Conv2D)       (None, 128, 128, 128)     73856     \n",
            "                                                                 \n",
            " block2_conv2 (Conv2D)       (None, 128, 128, 128)     147584    \n",
            "                                                                 \n",
            " block2_pool (MaxPooling2D)  (None, 64, 64, 128)       0         \n",
            "                                                                 \n",
            " block3_conv1 (Conv2D)       (None, 64, 64, 256)       295168    \n",
            "                                                                 \n",
            " block3_conv2 (Conv2D)       (None, 64, 64, 256)       590080    \n",
            "                                                                 \n",
            " block3_conv3 (Conv2D)       (None, 64, 64, 256)       590080    \n",
            "                                                                 \n",
            " block3_conv4 (Conv2D)       (None, 64, 64, 256)       590080    \n",
            "                                                                 \n",
            " block3_pool (MaxPooling2D)  (None, 32, 32, 256)       0         \n",
            "                                                                 \n",
            " block4_conv1 (Conv2D)       (None, 32, 32, 512)       1180160   \n",
            "                                                                 \n",
            " block4_conv2 (Conv2D)       (None, 32, 32, 512)       2359808   \n",
            "                                                                 \n",
            " block4_conv3 (Conv2D)       (None, 32, 32, 512)       2359808   \n",
            "                                                                 \n",
            " block4_conv4 (Conv2D)       (None, 32, 32, 512)       2359808   \n",
            "                                                                 \n",
            " block4_pool (MaxPooling2D)  (None, 16, 16, 512)       0         \n",
            "                                                                 \n",
            " block5_conv1 (Conv2D)       (None, 16, 16, 512)       2359808   \n",
            "                                                                 \n",
            " block5_conv2 (Conv2D)       (None, 16, 16, 512)       2359808   \n",
            "                                                                 \n",
            " block5_conv3 (Conv2D)       (None, 16, 16, 512)       2359808   \n",
            "                                                                 \n",
            " block5_conv4 (Conv2D)       (None, 16, 16, 512)       2359808   \n",
            "                                                                 \n",
            " block5_pool (MaxPooling2D)  (None, 8, 8, 512)         0         \n",
            "                                                                 \n",
            " flatten_2 (Flatten)         (None, 32768)             0         \n",
            "                                                                 \n",
            " dense_2 (Dense)             (None, 38)                1245222   \n",
            "                                                                 \n",
            "=================================================================\n",
            "Total params: 21,269,606\n",
            "Trainable params: 1,245,222\n",
            "Non-trainable params: 20,024,384\n",
            "_________________________________________________________________\n"
          ]
        }
      ]
    },
    {
      "cell_type": "code",
      "source": [
        "model.compile(optimizer='adam',loss = keras.losses.categorical_crossentropy,metrics = ['accuracy'])"
      ],
      "metadata": {
        "id": "Cae9rWIDpQZJ"
      },
      "execution_count": null,
      "outputs": []
    },
    {
      "cell_type": "code",
      "source": [
        "\n",
        "# EARLY STOPPING AND MODEL CHECK POINTS"
      ],
      "metadata": {
        "id": "8jTF-2uoaUC0"
      },
      "execution_count": null,
      "outputs": []
    },
    {
      "cell_type": "code",
      "source": [
        "from keras.callbacks import ModelCheckpoint,EarlyStopping "
      ],
      "metadata": {
        "id": "vaC0Ra9geEW2"
      },
      "execution_count": null,
      "outputs": []
    },
    {
      "cell_type": "code",
      "source": [
        "# early stopping \n",
        "earlystopping = EarlyStopping(monitor = 'val_accuracy',\n",
        "                              min_delta = 0.01,\n",
        "                              patience =10,\n",
        "                              verbose=1)\n",
        "\n",
        "# model check point \n",
        "modelcheckpoint = ModelCheckpoint(filepath =\"best_model.h5\",\n",
        "                                  monitor ='val_accuracy',\n",
        "                                  min_delta = 0.001,\n",
        "                                  patience =10,\n",
        "                                  verbose = 1,\n",
        "                                  save_best_only = True)\n",
        "\n",
        "\n",
        "call_back = [earlystopping,modelcheckpoint] # creating array, because to train a model the input is taken only as a array\n",
        "\n"
      ],
      "metadata": {
        "id": "ZTBwggCGeieC"
      },
      "execution_count": null,
      "outputs": []
    },
    {
      "cell_type": "code",
      "source": [
        "his = model.fit_generator(train,\n",
        "                          steps_per_epoch=16,\n",
        "                          epochs = 50,\n",
        "                          verbose = 1,\n",
        "                          callbacks = call_back,\n",
        "                          \n",
        "                          validation_data= val,\n",
        "                          validation_steps = 16)"
      ],
      "metadata": {
        "colab": {
          "base_uri": "https://localhost:8080/"
        },
        "id": "IOFkw7OVnxHc",
        "outputId": "6c280911-37f5-4215-85e7-b95f67ee23aa"
      },
      "execution_count": null,
      "outputs": [
        {
          "output_type": "stream",
          "name": "stderr",
          "text": [
            "/usr/local/lib/python3.7/dist-packages/ipykernel_launcher.py:8: UserWarning: `Model.fit_generator` is deprecated and will be removed in a future version. Please use `Model.fit`, which supports generators.\n",
            "  \n"
          ]
        },
        {
          "output_type": "stream",
          "name": "stdout",
          "text": [
            "Epoch 1/50\n",
            "16/16 [==============================] - ETA: 0s - loss: 7.8097 - accuracy: 0.8164\n",
            "Epoch 1: val_accuracy improved from -inf to 0.83789, saving model to best_model.h5\n",
            "16/16 [==============================] - 13s 819ms/step - loss: 7.8097 - accuracy: 0.8164 - val_loss: 5.6250 - val_accuracy: 0.8379\n",
            "Epoch 2/50\n",
            "16/16 [==============================] - ETA: 0s - loss: 9.0276 - accuracy: 0.7617\n",
            "Epoch 2: val_accuracy did not improve from 0.83789\n",
            "16/16 [==============================] - 13s 803ms/step - loss: 9.0276 - accuracy: 0.7617 - val_loss: 6.0808 - val_accuracy: 0.8301\n",
            "Epoch 3/50\n",
            "16/16 [==============================] - ETA: 0s - loss: 8.4929 - accuracy: 0.7754\n",
            "Epoch 3: val_accuracy improved from 0.83789 to 0.83984, saving model to best_model.h5\n",
            "16/16 [==============================] - 13s 834ms/step - loss: 8.4929 - accuracy: 0.7754 - val_loss: 5.0204 - val_accuracy: 0.8398\n",
            "Epoch 4/50\n",
            "16/16 [==============================] - ETA: 0s - loss: 8.2174 - accuracy: 0.7832\n",
            "Epoch 4: val_accuracy did not improve from 0.83984\n",
            "16/16 [==============================] - 13s 817ms/step - loss: 8.2174 - accuracy: 0.7832 - val_loss: 6.3081 - val_accuracy: 0.8398\n",
            "Epoch 5/50\n",
            "16/16 [==============================] - ETA: 0s - loss: 8.1682 - accuracy: 0.7715\n",
            "Epoch 5: val_accuracy improved from 0.83984 to 0.84375, saving model to best_model.h5\n",
            "16/16 [==============================] - 13s 804ms/step - loss: 8.1682 - accuracy: 0.7715 - val_loss: 5.6565 - val_accuracy: 0.8438\n",
            "Epoch 6/50\n",
            "16/16 [==============================] - ETA: 0s - loss: 8.5498 - accuracy: 0.7812\n",
            "Epoch 6: val_accuracy did not improve from 0.84375\n",
            "16/16 [==============================] - 13s 795ms/step - loss: 8.5498 - accuracy: 0.7812 - val_loss: 5.5216 - val_accuracy: 0.8281\n",
            "Epoch 7/50\n",
            "16/16 [==============================] - ETA: 0s - loss: 9.6950 - accuracy: 0.7363\n",
            "Epoch 7: val_accuracy improved from 0.84375 to 0.85156, saving model to best_model.h5\n",
            "16/16 [==============================] - 13s 828ms/step - loss: 9.6950 - accuracy: 0.7363 - val_loss: 5.2253 - val_accuracy: 0.8516\n",
            "Epoch 8/50\n",
            "16/16 [==============================] - ETA: 0s - loss: 8.5303 - accuracy: 0.7832\n",
            "Epoch 8: val_accuracy did not improve from 0.85156\n",
            "16/16 [==============================] - 13s 822ms/step - loss: 8.5303 - accuracy: 0.7832 - val_loss: 8.6552 - val_accuracy: 0.8086\n",
            "Epoch 9/50\n",
            "16/16 [==============================] - ETA: 0s - loss: 6.7987 - accuracy: 0.7969\n",
            "Epoch 9: val_accuracy did not improve from 0.85156\n",
            "16/16 [==============================] - 13s 815ms/step - loss: 6.7987 - accuracy: 0.7969 - val_loss: 7.2008 - val_accuracy: 0.8242\n",
            "Epoch 10/50\n",
            "16/16 [==============================] - ETA: 0s - loss: 7.7948 - accuracy: 0.7910\n",
            "Epoch 10: val_accuracy improved from 0.85156 to 0.85547, saving model to best_model.h5\n",
            "16/16 [==============================] - 13s 827ms/step - loss: 7.7948 - accuracy: 0.7910 - val_loss: 6.1990 - val_accuracy: 0.8555\n",
            "Epoch 11/50\n",
            "16/16 [==============================] - ETA: 0s - loss: 6.7916 - accuracy: 0.8066\n",
            "Epoch 11: val_accuracy improved from 0.85547 to 0.86719, saving model to best_model.h5\n",
            "16/16 [==============================] - 13s 830ms/step - loss: 6.7916 - accuracy: 0.8066 - val_loss: 5.1727 - val_accuracy: 0.8672\n",
            "Epoch 12/50\n",
            "16/16 [==============================] - ETA: 0s - loss: 6.9573 - accuracy: 0.8145\n",
            "Epoch 12: val_accuracy did not improve from 0.86719\n",
            "16/16 [==============================] - 13s 816ms/step - loss: 6.9573 - accuracy: 0.8145 - val_loss: 5.5264 - val_accuracy: 0.8418\n",
            "Epoch 13/50\n",
            "16/16 [==============================] - ETA: 0s - loss: 6.7654 - accuracy: 0.8242\n",
            "Epoch 13: val_accuracy improved from 0.86719 to 0.87305, saving model to best_model.h5\n",
            "16/16 [==============================] - 13s 828ms/step - loss: 6.7654 - accuracy: 0.8242 - val_loss: 5.0964 - val_accuracy: 0.8730\n",
            "Epoch 14/50\n",
            "16/16 [==============================] - ETA: 0s - loss: 8.6315 - accuracy: 0.7910\n",
            "Epoch 14: val_accuracy did not improve from 0.87305\n",
            "16/16 [==============================] - 13s 814ms/step - loss: 8.6315 - accuracy: 0.7910 - val_loss: 5.3827 - val_accuracy: 0.8574\n",
            "Epoch 15/50\n",
            "16/16 [==============================] - ETA: 0s - loss: 8.3282 - accuracy: 0.8008\n",
            "Epoch 15: val_accuracy did not improve from 0.87305\n",
            "16/16 [==============================] - 13s 817ms/step - loss: 8.3282 - accuracy: 0.8008 - val_loss: 5.1071 - val_accuracy: 0.8652\n",
            "Epoch 16/50\n",
            "16/16 [==============================] - ETA: 0s - loss: 6.0316 - accuracy: 0.8477\n",
            "Epoch 16: val_accuracy did not improve from 0.87305\n",
            "16/16 [==============================] - 13s 807ms/step - loss: 6.0316 - accuracy: 0.8477 - val_loss: 5.1593 - val_accuracy: 0.8652\n",
            "Epoch 17/50\n",
            "16/16 [==============================] - ETA: 0s - loss: 6.6742 - accuracy: 0.8359\n",
            "Epoch 17: val_accuracy did not improve from 0.87305\n",
            "16/16 [==============================] - 13s 817ms/step - loss: 6.6742 - accuracy: 0.8359 - val_loss: 6.6268 - val_accuracy: 0.8359\n",
            "Epoch 18/50\n",
            "16/16 [==============================] - ETA: 0s - loss: 5.8028 - accuracy: 0.8555\n",
            "Epoch 18: val_accuracy improved from 0.87305 to 0.88867, saving model to best_model.h5\n",
            "16/16 [==============================] - 13s 819ms/step - loss: 5.8028 - accuracy: 0.8555 - val_loss: 3.7699 - val_accuracy: 0.8887\n",
            "Epoch 19/50\n",
            "16/16 [==============================] - ETA: 0s - loss: 6.5934 - accuracy: 0.8379\n",
            "Epoch 19: val_accuracy did not improve from 0.88867\n",
            "16/16 [==============================] - 13s 815ms/step - loss: 6.5934 - accuracy: 0.8379 - val_loss: 6.3596 - val_accuracy: 0.8496\n",
            "Epoch 20/50\n",
            "16/16 [==============================] - ETA: 0s - loss: 7.8519 - accuracy: 0.8223\n",
            "Epoch 20: val_accuracy did not improve from 0.88867\n",
            "16/16 [==============================] - 13s 811ms/step - loss: 7.8519 - accuracy: 0.8223 - val_loss: 5.3566 - val_accuracy: 0.8848\n",
            "Epoch 21/50\n",
            "16/16 [==============================] - ETA: 0s - loss: 7.7382 - accuracy: 0.8184\n",
            "Epoch 21: val_accuracy did not improve from 0.88867\n",
            "16/16 [==============================] - 13s 805ms/step - loss: 7.7382 - accuracy: 0.8184 - val_loss: 6.1200 - val_accuracy: 0.8613\n",
            "Epoch 22/50\n",
            "16/16 [==============================] - ETA: 0s - loss: 7.7135 - accuracy: 0.8145\n",
            "Epoch 22: val_accuracy did not improve from 0.88867\n",
            "16/16 [==============================] - 13s 807ms/step - loss: 7.7135 - accuracy: 0.8145 - val_loss: 6.8389 - val_accuracy: 0.8672\n",
            "Epoch 23/50\n",
            "16/16 [==============================] - ETA: 0s - loss: 6.1036 - accuracy: 0.8438\n",
            "Epoch 23: val_accuracy improved from 0.88867 to 0.89648, saving model to best_model.h5\n",
            "16/16 [==============================] - 13s 818ms/step - loss: 6.1036 - accuracy: 0.8438 - val_loss: 3.1935 - val_accuracy: 0.8965\n",
            "Epoch 24/50\n",
            "16/16 [==============================] - ETA: 0s - loss: 6.6070 - accuracy: 0.8301\n",
            "Epoch 24: val_accuracy did not improve from 0.89648\n",
            "16/16 [==============================] - 13s 799ms/step - loss: 6.6070 - accuracy: 0.8301 - val_loss: 3.9883 - val_accuracy: 0.8906\n",
            "Epoch 25/50\n",
            "16/16 [==============================] - ETA: 0s - loss: 7.4021 - accuracy: 0.8145\n",
            "Epoch 25: val_accuracy improved from 0.89648 to 0.89844, saving model to best_model.h5\n",
            "16/16 [==============================] - 13s 824ms/step - loss: 7.4021 - accuracy: 0.8145 - val_loss: 4.4143 - val_accuracy: 0.8984\n",
            "Epoch 26/50\n",
            "16/16 [==============================] - ETA: 0s - loss: 4.9083 - accuracy: 0.8438\n",
            "Epoch 26: val_accuracy improved from 0.89844 to 0.91211, saving model to best_model.h5\n",
            "16/16 [==============================] - 13s 839ms/step - loss: 4.9083 - accuracy: 0.8438 - val_loss: 4.8456 - val_accuracy: 0.9121\n",
            "Epoch 27/50\n",
            "16/16 [==============================] - ETA: 0s - loss: 4.8896 - accuracy: 0.8691\n",
            "Epoch 27: val_accuracy did not improve from 0.91211\n",
            "16/16 [==============================] - 13s 810ms/step - loss: 4.8896 - accuracy: 0.8691 - val_loss: 4.3588 - val_accuracy: 0.9004\n",
            "Epoch 28/50\n",
            "16/16 [==============================] - ETA: 0s - loss: 7.4675 - accuracy: 0.8320\n",
            "Epoch 28: val_accuracy did not improve from 0.91211\n",
            "16/16 [==============================] - 13s 809ms/step - loss: 7.4675 - accuracy: 0.8320 - val_loss: 5.5494 - val_accuracy: 0.8828\n",
            "Epoch 29/50\n",
            "16/16 [==============================] - ETA: 0s - loss: 6.3603 - accuracy: 0.8418\n",
            "Epoch 29: val_accuracy did not improve from 0.91211\n",
            "16/16 [==============================] - 13s 810ms/step - loss: 6.3603 - accuracy: 0.8418 - val_loss: 4.5132 - val_accuracy: 0.8887\n",
            "Epoch 30/50\n",
            "16/16 [==============================] - ETA: 0s - loss: 6.2032 - accuracy: 0.8691\n",
            "Epoch 30: val_accuracy did not improve from 0.91211\n",
            "16/16 [==============================] - 13s 820ms/step - loss: 6.2032 - accuracy: 0.8691 - val_loss: 4.1661 - val_accuracy: 0.8809\n",
            "Epoch 31/50\n",
            "16/16 [==============================] - ETA: 0s - loss: 8.5170 - accuracy: 0.8262\n",
            "Epoch 31: val_accuracy did not improve from 0.91211\n",
            "16/16 [==============================] - 13s 804ms/step - loss: 8.5170 - accuracy: 0.8262 - val_loss: 5.9182 - val_accuracy: 0.8770\n",
            "Epoch 32/50\n",
            "16/16 [==============================] - ETA: 0s - loss: 7.1555 - accuracy: 0.8086\n",
            "Epoch 32: val_accuracy did not improve from 0.91211\n",
            "16/16 [==============================] - 13s 798ms/step - loss: 7.1555 - accuracy: 0.8086 - val_loss: 4.4414 - val_accuracy: 0.8906\n",
            "Epoch 33/50\n",
            "16/16 [==============================] - ETA: 0s - loss: 6.0028 - accuracy: 0.8613\n",
            "Epoch 33: val_accuracy did not improve from 0.91211\n",
            "16/16 [==============================] - 13s 808ms/step - loss: 6.0028 - accuracy: 0.8613 - val_loss: 5.4419 - val_accuracy: 0.8652\n",
            "Epoch 34/50\n",
            "16/16 [==============================] - ETA: 0s - loss: 6.5315 - accuracy: 0.8340\n",
            "Epoch 34: val_accuracy did not improve from 0.91211\n",
            "16/16 [==============================] - 13s 816ms/step - loss: 6.5315 - accuracy: 0.8340 - val_loss: 4.9274 - val_accuracy: 0.8770\n",
            "Epoch 35/50\n",
            "16/16 [==============================] - ETA: 0s - loss: 5.7807 - accuracy: 0.8535\n",
            "Epoch 35: val_accuracy did not improve from 0.91211\n",
            "16/16 [==============================] - 13s 808ms/step - loss: 5.7807 - accuracy: 0.8535 - val_loss: 3.4349 - val_accuracy: 0.9043\n",
            "Epoch 36/50\n",
            "16/16 [==============================] - ETA: 0s - loss: 5.6710 - accuracy: 0.8633\n",
            "Epoch 36: val_accuracy did not improve from 0.91211\n",
            "16/16 [==============================] - 13s 808ms/step - loss: 5.6710 - accuracy: 0.8633 - val_loss: 4.2655 - val_accuracy: 0.9004\n",
            "Epoch 36: early stopping\n"
          ]
        }
      ]
    },
    {
      "cell_type": "code",
      "source": [
        "h = his.history\n",
        "h.keys()\n"
      ],
      "metadata": {
        "id": "7g5ZzjKmpMXl",
        "colab": {
          "base_uri": "https://localhost:8080/"
        },
        "outputId": "812145e5-6274-46f9-c900-13e550cf4975"
      },
      "execution_count": null,
      "outputs": [
        {
          "output_type": "execute_result",
          "data": {
            "text/plain": [
              "dict_keys(['loss', 'accuracy', 'val_loss', 'val_accuracy'])"
            ]
          },
          "metadata": {},
          "execution_count": 107
        }
      ]
    },
    {
      "cell_type": "code",
      "source": [
        "import matplotlib.pyplot as plt"
      ],
      "metadata": {
        "id": "sBGskbLsyRfi"
      },
      "execution_count": null,
      "outputs": []
    },
    {
      "cell_type": "code",
      "source": [
        "plt.plot(h['accuracy'],c = \"red\")\n",
        "plt.plot(h['val_accuracy'],c = \"blue\")\n",
        "plt.title(\"acc vs v-acc\")\n",
        "plt.show()"
      ],
      "metadata": {
        "colab": {
          "base_uri": "https://localhost:8080/",
          "height": 281
        },
        "id": "uCTFJBkwx2xF",
        "outputId": "7162379c-f17a-40d4-9d5c-e0f0c7f81546"
      },
      "execution_count": null,
      "outputs": [
        {
          "output_type": "display_data",
          "data": {
            "text/plain": [
              "<Figure size 432x288 with 1 Axes>"
            ],
            "image/png": "[encoded data removed]"
          },
          "metadata": {
            "needs_background": "light"
          }
        }
      ]
    },
    {
      "cell_type": "code",
      "source": [
        "plt.plot(h['loss'])\n",
        "plt.plot(h['val_loss'],c = \"blue\")\n",
        "plt.title(\"loss vs v-loss\")\n",
        "plt.show()"
      ],
      "metadata": {
        "colab": {
          "base_uri": "https://localhost:8080/",
          "height": 281
        },
        "id": "QvGNsf1xyQOC",
        "outputId": "d001d050-bb29-47bd-c4c2-b9468c022ddb"
      },
      "execution_count": null,
      "outputs": [
        {
          "output_type": "display_data",
          "data": {
            "text/plain": [
              "<Figure size 432x288 with 1 Axes>"
            ],
            "image/png": "[encoded data removed]"
          },
          "metadata": {
            "needs_background": "light"
          }
        }
      ]
    },
    {
      "cell_type": "code",
      "source": [
        "# LOAD BEST MODEL\n",
        "from keras.models import load_model\n",
        "model = load_model('/content/best_model.h5')"
      ],
      "metadata": {
        "id": "OAnoY9Bryjn_"
      },
      "execution_count": null,
      "outputs": []
    },
    {
      "cell_type": "code",
      "source": [
        "acc = model.evaluate_generator(val)[1]\n",
        "print(f\"The accuracy of model is = {acc*100}%\")"
      ],
      "metadata": {
        "colab": {
          "base_uri": "https://localhost:8080/"
        },
        "id": "sBKepmptoZwq",
        "outputId": "45099d45-c53d-47f1-eac5-9a47cc5129f3"
      },
      "execution_count": null,
      "outputs": [
        {
          "output_type": "stream",
          "name": "stderr",
          "text": [
            "/usr/local/lib/python3.7/dist-packages/ipykernel_launcher.py:1: UserWarning: `Model.evaluate_generator` is deprecated and will be removed in a future version. Please use `Model.evaluate`, which supports generators.\n",
            "  \"\"\"Entry point for launching an IPython kernel.\n"
          ]
        },
        {
          "output_type": "stream",
          "name": "stdout",
          "text": [
            "The accuracy of model is = 89.88732099533081%\n"
          ]
        }
      ]
    },
    {
      "cell_type": "code",
      "source": [
        "refer = dict(zip(list(train.class_indices.values()), list(train.class_indices.keys())))"
      ],
      "metadata": {
        "id": "nVvZc0qsxhi6"
      },
      "execution_count": null,
      "outputs": []
    },
    {
      "cell_type": "code",
      "source": [
        "# predict the disease \n",
        "def pred(path):\n",
        "\n",
        "  img = load_img(path,target_size =(256,256))\n",
        "  i =img_to_array(img)\n",
        "  pre = preprocess_input(i)\n",
        "\n",
        "  img = np.expand_dims(pre,axis = 0)\n",
        "  predic = np.argmax(model.predict(img))\n",
        "  print(f\"The image belongs to = {refer[predic]}\")\n",
        " \n",
        "\n"
      ],
      "metadata": {
        "id": "mEN6IqturzCt"
      },
      "execution_count": null,
      "outputs": []
    },
    {
      "cell_type": "code",
      "source": [
        ""
      ],
      "metadata": {
        "id": "Tn9LmO3tXDYH"
      },
      "execution_count": null,
      "outputs": []
    },
    {
      "cell_type": "code",
      "source": [
        "# COPY AND PASTE THE PATH OF THE LEAF AFTER UPLOADING ANY IMAGE INTO THE COLAB\n",
        "path = \"/content/plantvillage/PlantVillage/Potato___Late_blight/006cc01a-1888-4326-9b62-a65cb55a6377___RS_LB 5207.JPG\"\n",
        "pred(path)"
      ],
      "metadata": {
        "colab": {
          "base_uri": "https://localhost:8080/"
        },
        "id": "jjIZLQfvxH9o",
        "outputId": "4a0c5802-c0c7-43f2-9e66-74bb9222efcf"
      },
      "execution_count": null,
      "outputs": [
        {
          "output_type": "stream",
          "name": "stdout",
          "text": [
            "The image belongs to = Potato___Late_blight\n"
          ]
        }
      ]
    },
    {
      "cell_type": "code",
      "source": [
        ""
      ],
      "metadata": {
        "id": "LNhAETmA2crl"
      },
      "execution_count": null,
      "outputs": []
    },
    {
      "cell_type": "code",
      "source": [
        ""
      ],
      "metadata": {
        "id": "gtzVrBCc7XRj"
      },
      "execution_count": null,
      "outputs": []
    }
  ]
}